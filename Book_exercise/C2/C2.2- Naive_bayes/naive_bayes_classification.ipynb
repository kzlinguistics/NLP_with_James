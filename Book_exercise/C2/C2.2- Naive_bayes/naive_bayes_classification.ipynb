{
 "cells": [
  {
   "cell_type": "code",
   "execution_count": 9,
   "metadata": {},
   "outputs": [],
   "source": [
    "#this is the first line for committ \n",
    "\n",
    "import os\n",
    "import random\n",
    "import numpy as np\n",
    "import pandas as pd\n",
    "import collections\n",
    "import math\n"
   ]
  },
  {
   "cell_type": "code",
   "execution_count": 2,
   "metadata": {},
   "outputs": [],
   "source": [
    "uri_train  = 'https://raw.githubusercontent.com/thiagorainmaker77/liar_dataset/master/train.tsv'\n",
    "\n",
    "df_train = pd.read_table(uri_train,\n",
    "                             names = ['id',\t'label'\t,'statement',\t'subject',\t'speaker', \t'job', \t'state',\t'party',\t'barely_true_c',\t'false_c',\t'half_true_c',\t'mostly_true_c',\t'pants_on_fire_c',\t'venue'])\n",
    "\n",
    "other_df = pd.DataFrame({\"label\": ['true', \"false\"]})\n",
    "\n",
    "df_linear = df_train[df_train.label.isin(other_df.label)]\n",
    "\n",
    "df_linear_1= df_linear.reset_index()\n",
    "df_linear_1['statement'] = df_linear_1['statement'].str.lower()\n",
    "#df_linear_1['statement']= df_linear_1['statement'].str.split()\n"
   ]
  },
  {
   "cell_type": "code",
   "execution_count": 3,
   "metadata": {},
   "outputs": [
    {
     "name": "stdout",
     "output_type": "stream",
     "text": [
      "Counter({'false': 1995, 'true': 1676})\n"
     ]
    }
   ],
   "source": [
    "label_cnt = collections.Counter(df_linear_1.label)\n",
    "print(label_cnt)"
   ]
  },
  {
   "cell_type": "code",
   "execution_count": 4,
   "metadata": {},
   "outputs": [],
   "source": [
    "label_cnt = collections.Counter(df_linear_1.label)\n",
    "true_cnt = collections.Counter() #true_cnt is p(x|true)\n",
    "false_cnt = collections.Counter()\n",
    "\n",
    "\n",
    "\n",
    "for idx, row in df_linear_1.iterrows():\n",
    "\n",
    "    if row[\"label\"]== \"true\":\n",
    "\n",
    "        true_cnt.update(row[\"statement\"].split())\n",
    "\n",
    "    if row[\"label\"]== \"false\":\n",
    "\n",
    "        false_cnt.update(row[\"statement\"].split())\n",
    "\n",
    "\n"
   ]
  },
  {
   "cell_type": "code",
   "execution_count": 8,
   "metadata": {},
   "outputs": [],
   "source": [
    "true_probs = {key: value / sum(true_cnt.values()) for key, value in true_cnt.items()}\n",
    "false_probs = {key: value / sum(false_cnt.values()) for key, value in false_cnt.items()}\n",
    "label_probs = {key: value / sum(label_cnt.values()) for key, value in label_cnt.items()}\n"
   ]
  },
  {
   "cell_type": "code",
   "execution_count": 15,
   "metadata": {},
   "outputs": [
    {
     "name": "stdout",
     "output_type": "stream",
     "text": [
      "false\n",
      "false\n"
     ]
    }
   ],
   "source": [
    "for idx, row in df_linear_1.iterrows(): \n",
    "\n",
    "    sentence = row[\"statement\"].split() \n",
    "\n",
    "    true_prob = math.prod([true_probs.get(word,0) for word in sentence])*label_probs[\"true\"]\n",
    "    false_prob = math.prod([false_probs.get(word,0) for word in sentence])*label_probs[\"false\"]\n",
    "\n",
    "    if true_prob > false_prob: \n",
    "        print(\"true\")\n",
    "    else: \n",
    "        print(\"false\")\n",
    "\n",
    "    print(row[\"label\"])\n",
    "\n",
    "\n",
    "    break\n",
    "\n"
   ]
  }
 ],
 "metadata": {
  "kernelspec": {
   "display_name": "Python 3.9.12 ('base')",
   "language": "python",
   "name": "python3"
  },
  "language_info": {
   "codemirror_mode": {
    "name": "ipython",
    "version": 3
   },
   "file_extension": ".py",
   "mimetype": "text/x-python",
   "name": "python",
   "nbconvert_exporter": "python",
   "pygments_lexer": "ipython3",
   "version": "3.9.12"
  },
  "orig_nbformat": 4,
  "vscode": {
   "interpreter": {
    "hash": "58ed8a150d7d37ab663d3aba4c202cca1b056a70e46f6886df0072485b153cf5"
   }
  }
 },
 "nbformat": 4,
 "nbformat_minor": 2
}
